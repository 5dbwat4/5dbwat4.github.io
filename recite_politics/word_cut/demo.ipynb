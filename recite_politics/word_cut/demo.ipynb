{
 "metadata": {
  "language_info": {
   "codemirror_mode": {
    "name": "ipython",
    "version": 3
   },
   "file_extension": ".py",
   "mimetype": "text/x-python",
   "name": "python",
   "nbconvert_exporter": "python",
   "pygments_lexer": "ipython3",
   "version": "3.8.5-final"
  },
  "orig_nbformat": 2,
  "kernelspec": {
   "name": "python38532bitf1d734975728474c9e06b2ab20c9eb74",
   "display_name": "Python 3.8.5 32-bit"
  }
 },
 "nbformat": 4,
 "nbformat_minor": 2,
 "cells": [
  {
   "source": [
    "将知识点进行分词，便于背诵时的 **更人性化的** 提示服务"
   ],
   "cell_type": "markdown",
   "metadata": {}
  },
  {
   "source": [
    "引入相关库"
   ],
   "cell_type": "markdown",
   "metadata": {}
  },
  {
   "source": [
    "import jieba\n",
    "import json"
   ],
   "cell_type": "code",
   "metadata": {},
   "execution_count": 12,
   "outputs": []
  },
  {
   "source": [
    "输入文件：input_file\n",
    "\n",
    "输出文件：output_file"
   ],
   "cell_type": "markdown",
   "metadata": {}
  },
  {
   "source": [
    "input_file=\"9Bu1.json\"\n",
    "\n",
    "filedt=open(\"./\"+input_file,\"r\",encoding='utf-8')\n",
    "filejson=json.load(filedt)\n",
    "\n",
    "index1=0\n",
    "for objectdata in filejson['data']:\n",
    "    index=0\n",
    "    for sen_tence in objectdata['answer']:\n",
    "        text=jieba.lcut(sen_tence)\n",
    "        objectdata['answer'][index]=text\n",
    "        index=index+1\n",
    "    filejson['data'][index1]=objectdata\n",
    "    index1=index1+1"
   ],
   "cell_type": "code",
   "metadata": {
    "tags": []
   },
   "execution_count": 16,
   "outputs": []
  },
  {
   "source": [
    "输出至文件"
   ],
   "cell_type": "markdown",
   "metadata": {}
  },
  {
   "cell_type": "code",
   "execution_count": 17,
   "metadata": {},
   "outputs": [],
   "source": [
    "output_file=\"9Bu1_1.json\"\n",
    "\n",
    "fileout=json.dumps(filejson,sort_keys=True,indent=4,ensure_ascii=False)\n",
    "filedt=open(\"./\"+output_file,\"w\",encoding='utf-8')\n",
    "filedt.write(fileout)\n",
    "filedt.close()"
   ]
  },
  {
   "cell_type": "code",
   "execution_count": null,
   "metadata": {},
   "outputs": [],
   "source": []
  }
 ]
}